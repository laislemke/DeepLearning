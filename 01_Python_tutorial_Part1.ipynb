{
  "cells": [
    {
      "cell_type": "markdown",
      "metadata": {
        "id": "view-in-github",
        "colab_type": "text"
      },
      "source": [
        "<a href=\"https://colab.research.google.com/github/laislemke/DeepLearning/blob/main/01_Python_tutorial_Part1.ipynb\" target=\"_parent\"><img src=\"https://colab.research.google.com/assets/colab-badge.svg\" alt=\"Open In Colab\"/></a>"
      ]
    },
    {
      "cell_type": "markdown",
      "metadata": {
        "id": "ikpkCVpQwlk4"
      },
      "source": [
        "# Introduction to Jupyter Notebooks and Python\n",
        "by [Nicolaj Stache](mailto:Nicolaj.Stache@hs-heilbronn.de), [Andreas Schneider](mailto:Andreas.Schneider@hs-heilbronn.de), Heilbronn University of Applied Sciences"
      ]
    },
    {
      "cell_type": "markdown",
      "metadata": {
        "id": "cuzLh84Owlk5"
      },
      "source": [
        "Welcome! You obviously managed to start this Jupyter notebook, which presents an introduction to Python 3.x.\n",
        "\n",
        "\n",
        "## Jupyter Notebooks\n",
        "First, here is a quick guideline for using Jupyter notebooks:\n",
        "\n",
        "<img src=\"https://drive.google.com/uc?id=189UgcLNKaPjACm5LkTOhMpIm97VVa9uI\">"
      ]
    },
    {
      "cell_type": "markdown",
      "metadata": {
        "collapsed": true,
        "id": "NzUIZhB-wlk6"
      },
      "source": [
        "Of course, there are many other features available in jupyter notebooks. Have a look at the example in the task.\n",
        "Hint: there are two types of cells. Code cells which contain executable Python code and text cells for eplanations. You can double-click on the cells with the mouse cursor to edit the content.\n",
        "\n",
        "There are two modes in jupyter notebook indicated either by the green vertical bar (as in the image above) when content can be edited or by a blue bar when content is executed. You can switch from green to blue by either executing the cell by pressing [strg] + [return] or by the [esc] key. You can enter the edit mode by mouse click (double click).\n",
        "\n",
        "> **Task: Open /LOSC_Event_tutorial/LOSC_Event_tutorial.ipynb, a notebook on gravitational waves and quickly step through it. Try to edit and execute text and code cells. Do you have an idea what the advantages of such notebook are in contrast to an ordinary development environment?\n",
        "Type them in below:**"
      ]
    },
    {
      "cell_type": "markdown",
      "metadata": {
        "id": "PVn5RnJxwlk6"
      },
      "source": [
        "My answer:"
      ]
    },
    {
      "cell_type": "markdown",
      "metadata": {
        "id": "ooY3EHixwlk6"
      },
      "source": [
        "There is more information on Jupyter notebooks available under the following links:\n",
        "-  __[Cheatsheet](https://s3.amazonaws.com/assets.datacamp.com/blog_assets/Jupyter_Notebook_Cheat_Sheet.pdf)__\n",
        "-  __[List of shortcuts](https://www.cheatography.com/weidadeyue/cheat-sheets/jupyter-notebook/)__\n",
        "-  __[Official documentation](http://jupyter-notebook.readthedocs.io/en/stable/index.html)__"
      ]
    },
    {
      "cell_type": "markdown",
      "metadata": {
        "id": "oWqDkh5-wlk6"
      },
      "source": [
        "> **Task: Try to find out how to insert a Text cell (== Markdown cell) and a code cell below this cell. Insert both cells and delete them afterwards. Quickly summarize how this could be achieved below.**"
      ]
    },
    {
      "cell_type": "markdown",
      "metadata": {
        "id": "3KoRatibwlk7"
      },
      "source": [
        "My answer:"
      ]
    },
    {
      "cell_type": "markdown",
      "metadata": {
        "id": "sncOvrGEwlk7"
      },
      "source": [
        "***\n",
        "## Python"
      ]
    },
    {
      "cell_type": "markdown",
      "metadata": {
        "id": "xiSOcDG_wlk7"
      },
      "source": [
        "Let us start with the most prominent example for beginners in every programming langugage - the hello world program!"
      ]
    },
    {
      "cell_type": "code",
      "execution_count": null,
      "metadata": {
        "id": "6tHK0K7-wlk7"
      },
      "outputs": [],
      "source": [
        "print(\"hello world!\")"
      ]
    },
    {
      "cell_type": "markdown",
      "metadata": {
        "id": "PIz0O4MWwlk8"
      },
      "source": [
        "The Zen of Python: You can disply the design priniples of Python just by executing the folowing line:"
      ]
    },
    {
      "cell_type": "code",
      "execution_count": null,
      "metadata": {
        "id": "SsbENk3uwlk8"
      },
      "outputs": [],
      "source": [
        "import this"
      ]
    },
    {
      "cell_type": "markdown",
      "metadata": {
        "id": "oWiLHl3twlk8"
      },
      "source": [
        "## Where to get help?\n",
        "\n",
        "-  There is a language reference (and a tutorial) here: https://docs.python.org/3.6/index.html\n",
        "-  Stackoverflow forum addresses Python questions: https://stackoverflow.com/questions/tagged/python\n",
        "-  Google your question...\n",
        "\n",
        "There are also other specific tutorials around like:\n",
        "-  http://cs231n.github.io/python-numpy-tutorial/\n",
        "\n",
        "Online courses:\n",
        "-  https://de.udacity.com/course/programming-foundations-with-python--ud036/\n",
        "-  https://www.codecademy.com/learn/python\n",
        "-  https://www.udacity.com/course/introduction-to-python--ud1110\n",
        "\n",
        "\n",
        "Assistance of jupyter notebook:\n",
        "-  Code completion can be invoked by pressing the [tab]-key.\n",
        "-  Also try out to press the [tab]-key for displaying the paramteters of a function\n",
        "-  [shift] + [tab] displays a short hint for help\n",
        "-  [shift] + [tab] + [tab] displays a longer help\n",
        "\n",
        "> **Task: insert a code cell below and try this out for the print statement!**"
      ]
    },
    {
      "cell_type": "markdown",
      "metadata": {
        "id": "efbGlRDhwlk8"
      },
      "source": [
        "# Here is our introduction\n",
        "\n",
        "\n",
        "### Basic calculations in Python"
      ]
    },
    {
      "cell_type": "code",
      "execution_count": null,
      "metadata": {
        "id": "Y6beTjxIwlk8"
      },
      "outputs": [],
      "source": [
        "print(\"Addition: 10 + 5 =\", 10 + 5)\n",
        "print(\"Subtraction: 10 - 9 =\", 10 - 9)\n",
        "print(\"Multiplication: 3 * 5 =\", 3 * 5)\n",
        "print(\"Exponentiation: 2 ^ 3 =\", 2 ** 3 )\n",
        "print(\"Exponentiation: 3 ^ 3 =\", 3 ** 3 )\n",
        "print(\"Division: 9 / 4 =\", 9 / 4)\n",
        "\n",
        "# TODO: complete the missing computations below. Use one of the ways to get help to find out how!\n",
        "print(\"Floor Division: 9 div 4 =\", )  # floor division discards the fractional part\n",
        "print(\"Modulo : 10 mod 2 = \", )\n",
        "print(\"Modulo : 10 mod 3 = \", )"
      ]
    },
    {
      "cell_type": "markdown",
      "metadata": {
        "id": "18txBdRBwlk9"
      },
      "source": [
        "### Working with variables\n",
        "\n",
        "(Variable) names can contain these characters:\n",
        "-  a ... z, A ... Z\n",
        "-  the underscore character _\n",
        "-  digits 0 ... 9\n",
        "\n",
        "Variables cannot start with a digit\n",
        "\n",
        "For a multiple-word name, use\n",
        "either the underscore as the delimiter\n",
        "or camelCase capitalization\n",
        "\n",
        "> **Task: Create 3 Variables to calculate the money you ended up with after 7 years of investing 1000€? The interest rate is 10%, Formula: 1000 x 1.1 ^ 7**"
      ]
    },
    {
      "cell_type": "code",
      "execution_count": null,
      "metadata": {
        "id": "XRGXj5uUwlk9"
      },
      "outputs": [],
      "source": [
        "# Create a variable savings\n",
        "savings = 1000 # Integer\n",
        "\n",
        "# Create a variable factor\n",
        "factor = 1.1 # Float\n",
        "\n",
        "# TODO: Calculate result\n",
        "result = 0\n",
        "\n",
        "# Print out result\n",
        "print(result)\n",
        "\n",
        "# Check which data types we are using.\n",
        "\n",
        "print(\"Type of savings:\", type(savings))\n",
        "print(\"Type of factor:\", type(factor))\n",
        "print(\"Type of result:\", type(result))"
      ]
    },
    {
      "cell_type": "markdown",
      "metadata": {
        "id": "GxcLP6vWwlk9"
      },
      "source": [
        "### Working with strings\n",
        "\n",
        "A string value is represented as a sequence of characters enclosed within quotes. Single Quotes are interchangeable with double quotes.\n",
        "\n",
        "Numbers in a string are treated as characters\n",
        "\n",
        "Backslash character is used to escape characters that otherwise have a special meaning\n",
        "\n",
        "| chars | meaning        |\n",
        "|-------|----------------|\n",
        "| '\\n'  | newline        |\n",
        "| '\\''  | single quote   |\n",
        "| '\\\"'  | double qoute   |\n",
        "| '\\t'  | horizontal tab |\n",
        "| '\\b'  | backspace      |\n",
        "| '\\\\'  | backslash      |\n",
        "\n",
        "Strings are represented as non-scalar type in python.\n",
        "\n",
        "String operators:\n",
        "\n",
        "| Usage         | Explanation                        |\n",
        "|---------------|------------------------------------|\n",
        "| `x in s`      | `x` is a substring of `s`          |\n",
        "| `x not in s`  | `x` is not a substring of `s`      |\n",
        "| `x + t`       | concatenation of `s` and `t`       |\n",
        "| `s * n`       | concatenation of `n` copies of `s` |\n",
        "| `s[i]`        | character at index `i` of `s`      |\n",
        "| `len(s)`      | length of string `s`               |\n",
        "\n",
        "Let us try this out!"
      ]
    },
    {
      "cell_type": "code",
      "execution_count": null,
      "metadata": {
        "id": "SELXgEgFwlk9"
      },
      "outputs": [],
      "source": [
        "string1 = \"This is a\"\n",
        "string2 = \"good tutorial\"\n",
        "concat = string1 + \" \" + string2\n",
        "print(\"string1 + string2:\",concat)"
      ]
    },
    {
      "cell_type": "code",
      "execution_count": null,
      "metadata": {
        "id": "COUB3Qcbwlk9"
      },
      "outputs": [],
      "source": [
        "print(\"New line: \" + 'C:\\some\\name')  # here \\n means newline!\n",
        "print(\"Avoid it with raw string: \" + r'C:\\some\\name')  # note the r before the quote"
      ]
    },
    {
      "cell_type": "markdown",
      "metadata": {
        "id": "VmvYoGo4wlk9"
      },
      "source": [
        "Hint: 'r' tells the python interpreter to treat it as a raw string. This is especially useful for filepaths."
      ]
    },
    {
      "cell_type": "code",
      "execution_count": null,
      "metadata": {
        "id": "yxxkKvBHwlk9"
      },
      "outputs": [],
      "source": [
        "print(3 * 'un' + 'ium')"
      ]
    },
    {
      "cell_type": "code",
      "execution_count": null,
      "metadata": {
        "id": "hpdFoeZawlk9"
      },
      "outputs": [],
      "source": [
        "# Two or more string literals are automatically concatenated\n",
        "word = 'Py' 'thon'\n",
        "print(\"Automatic Concatenation: \", word)"
      ]
    },
    {
      "cell_type": "markdown",
      "metadata": {
        "id": "q1YWs7Tgwlk9"
      },
      "source": [
        "Python supports indexing and slicing, similar to MATLAB, as shown in the example below.\n",
        "The following ASCII-Chart might help for better understanding:\n",
        "```\n",
        " +---+---+---+---+---+---+\n",
        " | P | y | t | h | o | n |\n",
        " +---+---+---+---+---+---+\n",
        "   0   1   2   3   4   5\n",
        "  -6  -5  -4  -3  -2  -1\n",
        "  \n",
        "  sliceable[start:stop:step]\n",
        "  ```"
      ]
    },
    {
      "cell_type": "code",
      "execution_count": null,
      "metadata": {
        "id": "-L_BydDNwlk9"
      },
      "outputs": [],
      "source": [
        "# Indexing - Notice \"word[-5]\" --> it means starting from the last index going forward in the array.\n",
        "print(\"Indexing: \", word[0],word[2],word[-5])\n",
        "print()  # empty line\n",
        "# Slicing\n",
        "print(\"Slicing example 1:\", word[2:4])\n",
        "print()\n",
        "print(\"Slicing example 2:\", word[4:])\n",
        "print()\n",
        "print(\"Slicing example 3:\", word[:3])\n",
        "print()\n",
        "print(\"Slicing example 4:\", word[0:6:2])\n",
        "print()\n",
        "print(\"Slicing example 5:\", word[-5:4])\n",
        "print()\n",
        "# Length\n",
        "print(\"Length of String:\", len(word))\n",
        "print()\n",
        "\n",
        "# Formatting\n",
        "print('Coordinates: {latitude}, {longitude}'.format(latitude='37.24N', longitude='-115.81W'))\n",
        "print()"
      ]
    },
    {
      "cell_type": "markdown",
      "metadata": {
        "id": "hMviFvtWwlk9"
      },
      "source": [
        "Please note that the index starts from 0 and ends at `len(word)-1`!\n",
        "> **Task: Please create your own example using \"`x not in s`\" and \"`x in s`\" like in the table above.**"
      ]
    },
    {
      "cell_type": "markdown",
      "metadata": {
        "id": "J3VE-YRUwlk-"
      },
      "source": [
        "### Input and type conversion\n",
        "\n",
        "`datastring = input(message)` prints an optional message and reads input from the user, which is stored as a string.\n",
        "If the input shall be interpreted as number, we have to use type conversion.\n",
        "\n",
        "Implicit type conversion:\n",
        "When evaluating an expression that contains operands of different types, operands must first be converted to the same type\n",
        "Operands are converted to the type of higher hierarchy. (The hierarchy is float <- int <- bool)\n",
        "\n",
        "Explicit type conversion:\n",
        "-  `int()` creates an integer from a `float` or a `str`\n",
        "-  `float()` creates a float from an `int` or `string`\n",
        "-  `str()` creates a string representation of a value\n"
      ]
    },
    {
      "cell_type": "markdown",
      "metadata": {
        "id": "BO8NXiEOwlk-"
      },
      "source": [
        "> ** Task: Create a new cell below, write a program which requests the user's name, weight and height. The programm computes the Body Mass Index (BMI) according to $$\\mathrm{BMI} =\\frac{\\mathrm{weight}}{\\mathrm{heigt}^2}$$\n",
        "The output message shall be: \"Hello `name`, your BMI is: `BMI`\" **\n",
        "\n",
        "Hint: You can use e.g. `x.replace(',','.')` to replace the comma from german keyboards with a dot if `x` is the input string."
      ]
    },
    {
      "cell_type": "code",
      "execution_count": null,
      "metadata": {
        "collapsed": true,
        "id": "8kpiqkwHwlk-"
      },
      "outputs": [],
      "source": [
        "# TODO: Insert BMI computation in here!\n"
      ]
    },
    {
      "cell_type": "markdown",
      "metadata": {
        "id": "LCPaLhLKwlk-"
      },
      "source": [
        "### Built-in functions\n",
        "The Python interpreter has a number of functions and types built into it that are always available. A complete list can be found under: https://docs.python.org/3.6/library/functions.html#all\n",
        "\n"
      ]
    }
  ],
  "metadata": {
    "kernelspec": {
      "display_name": "Python 3",
      "language": "python",
      "name": "python3"
    },
    "language_info": {
      "codemirror_mode": {
        "name": "ipython",
        "version": 3
      },
      "file_extension": ".py",
      "mimetype": "text/x-python",
      "name": "python",
      "nbconvert_exporter": "python",
      "pygments_lexer": "ipython3",
      "version": "3.5.3"
    },
    "colab": {
      "provenance": [],
      "include_colab_link": true
    }
  },
  "nbformat": 4,
  "nbformat_minor": 0
}