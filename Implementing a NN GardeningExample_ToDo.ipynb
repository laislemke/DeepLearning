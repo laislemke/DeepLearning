{
  "cells": [
    {
      "cell_type": "markdown",
      "metadata": {
        "id": "view-in-github",
        "colab_type": "text"
      },
      "source": [
        "<a href=\"https://colab.research.google.com/github/laislemke/DeepLearning/blob/main/Implementing%20a%20NN%20GardeningExample_ToDo.ipynb\" target=\"_parent\"><img src=\"https://colab.research.google.com/assets/colab-badge.svg\" alt=\"Open In Colab\"/></a>"
      ]
    },
    {
      "cell_type": "markdown",
      "metadata": {
        "id": "9iZF5bFoLtrX"
      },
      "source": [
        "# Implementing a Neural Net with a Gardening Dataset\n",
        "by [Andreas Schneider](mailto:Andreas.Schneider@hs-heilbronn.de), [Pascal Graf](mailto:Pascal.Graf@hs-heilbronn.de), and [Nicolaj Stache](mailto:Nicolaj.Stache@hs-heilbronn.de), Heilbronn University of Applied Sciences\n",
        "\n",
        "\n",
        "In this example, you are supposed to create a network by using pure Python and Numpy which determines optimal conditions for fostering plants, given exposure to sunshine and exposure to water.\n",
        "\n",
        "Hence, the available dataset has two features (exposure to sunshine and exposure to water) and one output variable, which shows whether the ratio was healthy for a general flower or not.\n",
        "\n",
        "Disclaimer: The dataset is dummy data and not neccessarily correct."
      ]
    },
    {
      "cell_type": "markdown",
      "metadata": {
        "id": "o_J4rOjKLtrY"
      },
      "source": [
        "## Import Libs"
      ]
    },
    {
      "cell_type": "code",
      "execution_count": null,
      "metadata": {
        "collapsed": true,
        "id": "sDjDHdKULtrZ"
      },
      "outputs": [],
      "source": [
        "import numpy as np\n",
        "# Set amount of decimal places\n",
        "np.set_printoptions(4)"
      ]
    },
    {
      "cell_type": "markdown",
      "metadata": {
        "id": "gUDKW1qCLtrZ"
      },
      "source": [
        "## Load data"
      ]
    },
    {
      "cell_type": "code",
      "execution_count": null,
      "metadata": {
        "collapsed": true,
        "colab": {
          "base_uri": "https://localhost:8080/"
        },
        "id": "Woxl-kkfLtrZ",
        "outputId": "64d10c7a-618d-4019-924a-a4189a8b602d"
      },
      "outputs": [
        {
          "output_type": "stream",
          "name": "stdout",
          "text": [
            "--2025-03-13 08:47:02--  https://docs.google.com/uc?export=download&id=1YzQtnno41kh8_kFzyIAx4QEikZ4HsqAx\n",
            "Resolving docs.google.com (docs.google.com)... 74.125.134.113, 74.125.134.139, 74.125.134.138, ...\n",
            "Connecting to docs.google.com (docs.google.com)|74.125.134.113|:443... connected.\n",
            "HTTP request sent, awaiting response... 303 See Other\n",
            "Location: https://drive.usercontent.google.com/download?id=1YzQtnno41kh8_kFzyIAx4QEikZ4HsqAx&export=download [following]\n",
            "--2025-03-13 08:47:02--  https://drive.usercontent.google.com/download?id=1YzQtnno41kh8_kFzyIAx4QEikZ4HsqAx&export=download\n",
            "Resolving drive.usercontent.google.com (drive.usercontent.google.com)... 74.125.26.132, 2607:f8b0:400c:c04::84\n",
            "Connecting to drive.usercontent.google.com (drive.usercontent.google.com)|74.125.26.132|:443... connected.\n",
            "HTTP request sent, awaiting response... 200 OK\n",
            "Length: 5101 (5.0K) [application/octet-stream]\n",
            "Saving to: ‘DL03_files.zip’\n",
            "\n",
            "DL03_files.zip      100%[===================>]   4.98K  --.-KB/s    in 0s      \n",
            "\n",
            "2025-03-13 08:47:05 (30.3 MB/s) - ‘DL03_files.zip’ saved [5101/5101]\n",
            "\n",
            "Archive:  DL03_files.zip\n",
            "replace features.npy? [y]es, [n]o, [A]ll, [N]one, [r]ename: y\n",
            "  inflating: features.npy            \n",
            "replace targets.npy? [y]es, [n]o, [A]ll, [N]one, [r]ename: "
          ]
        }
      ],
      "source": [
        "!wget --no-check-certificate 'https://docs.google.com/uc?export=download&id=1YzQtnno41kh8_kFzyIAx4QEikZ4HsqAx' -O DL03_files.zip\n",
        "!unzip DL03_files.zip\n",
        "features = np.load(\"features.npy\")\n",
        "targets = np.load(\"targets.npy\")"
      ]
    },
    {
      "cell_type": "markdown",
      "metadata": {
        "id": "8lN8ESq0LtrZ"
      },
      "source": [
        "## Let's visualise the data."
      ]
    },
    {
      "cell_type": "code",
      "execution_count": null,
      "metadata": {
        "id": "PnRfoBVrLtrZ"
      },
      "outputs": [],
      "source": [
        "# Importing matplotlib\n",
        "import matplotlib.pyplot as plt\n",
        "\n",
        "# Function to help us plot\n",
        "def plot_points():\n",
        "    X = np.array(features)\n",
        "    y = np.array(targets)\n",
        "    admitted = X[np.argwhere(y==1)]\n",
        "    rejected = X[np.argwhere(y==0)]\n",
        "    plt.scatter([s[0][0] for s in rejected], [s[0][1] for s in rejected], s = 25, color = 'red', edgecolor = 'k')\n",
        "    plt.scatter([s[0][0] for s in admitted], [s[0][1] for s in admitted], s = 25, color = 'cyan', edgecolor = 'k')\n",
        "    plt.xlabel('Exposure to sunshine')\n",
        "    plt.ylabel('Exposure of water')\n",
        "\n",
        "# Plotting the points\n",
        "plot_points()\n",
        "plt.show()\n",
        "print(\"FEATURES:\\n\", features[:5])\n",
        "print(\"TARGETS:\\n\", targets[:5])\n",
        "print(\"ARRAY SHAPE FEATURES:\\n\", features.shape)\n",
        "print(\"ARRAY SHAPE TARGETS:\\n\", targets.shape)"
      ]
    },
    {
      "cell_type": "markdown",
      "metadata": {
        "id": "0_c1PoJTLtrZ"
      },
      "source": [
        "# Let's do 1 Iteration with one sample\n",
        "1. Forward Pass with random initialized weights\n",
        "2. Backward Pass (Backpropagation) to update weights\n",
        "3. Forward Pass with updated weights"
      ]
    },
    {
      "cell_type": "markdown",
      "metadata": {
        "id": "rKP4KGdnLtrZ"
      },
      "source": [
        "## First of all - Define the activation function\n",
        "\n",
        "<img src=\"https://upload.wikimedia.org/wikipedia/commons/5/53/Sigmoid-function-2.svg\" width=\"600\" align=\"left\" />  \n",
        "<br />\n",
        "<br /> <br />\n",
        "<br /> <br /> <br /> <br /> <br /> <br /> <br /> <br /> <br />\n",
        "<br />\n",
        "**Quelle:** https://upload.wikimedia.org/wikipedia/commons/5/53/Sigmoid-function-2.svg"
      ]
    },
    {
      "cell_type": "markdown",
      "metadata": {
        "id": "qzTE9HkvLtrZ"
      },
      "source": [
        "> **Task:** Please define a function, which calculates the sigmoid and returns it."
      ]
    },
    {
      "cell_type": "code",
      "execution_count": null,
      "metadata": {
        "collapsed": true,
        "id": "cGjChGO7Ltra"
      },
      "outputs": [],
      "source": [
        "def sigmoid(x):\n",
        "    # TODO"
      ]
    },
    {
      "cell_type": "markdown",
      "metadata": {
        "id": "6XQ20wMoLtra"
      },
      "source": [
        "## Randomly initalize weights"
      ]
    },
    {
      "cell_type": "code",
      "execution_count": null,
      "metadata": {
        "collapsed": true,
        "id": "2UCYgPCQLtra"
      },
      "outputs": [],
      "source": [
        "weights_input_hidden = np.array([[0.8, 0.4, 0.3],\n",
        "                                 [0.2, 0.9, 0.5]])\n",
        "\n",
        "weights_hidden_output = np.array([[0.3, 0.5, 0.9]]).transpose()"
      ]
    },
    {
      "cell_type": "markdown",
      "metadata": {
        "id": "i9uFCkT8Ltra"
      },
      "source": [
        "## Just take one sample of data"
      ]
    },
    {
      "cell_type": "code",
      "execution_count": null,
      "metadata": {
        "collapsed": true,
        "id": "qpmNnLm2Ltra"
      },
      "outputs": [],
      "source": [
        "feature1 = np.array([[1.0 , 1.0]])\n",
        "target1 = np.array([[0.0]])\n",
        "\n",
        "print(\"Input Data:\", feature1, \"\\nTarget Value:\", target1)"
      ]
    },
    {
      "cell_type": "markdown",
      "metadata": {
        "id": "rmnK-4R6Ltra"
      },
      "source": [
        "<img src='https://drive.google.com/uc?id=1zxOrIyKnNwwkPxugw2U8kkvgyAbzlLXN'>"
      ]
    },
    {
      "cell_type": "markdown",
      "metadata": {
        "id": "WqbJ09jQLtra"
      },
      "source": [
        "## Lets do the first forward pass"
      ]
    },
    {
      "cell_type": "markdown",
      "metadata": {
        "id": "sWqdbdSgLtra"
      },
      "source": [
        "To perform the forward pass, we need to do four steps!\n",
        "- First, we compute the weighted sum of inputs (note: bias is not considered here) $h_{in} = \\sum\\limits_{i} w_i x_i$\n",
        "- Second, we compute the output $f(h_{out}) = sigmoid(h_{in})$  \n",
        "- Third, we compute the input to the output node, which is the weighted sum of the hidden outputs $f(h_{out})$\n",
        "- Finally, we compute the output of the network by taken the sigmoid of the previous result\n",
        "\n",
        "Please note, that the computation can be done by matrix multiplication, as shown below:\n",
        "\n",
        "<img src='https://drive.google.com/uc?id=1v8FcjbE5P-xjU19Q6nqaibt9MILqIO3r'>"
      ]
    },
    {
      "cell_type": "markdown",
      "metadata": {
        "id": "K8v_KXckLtra"
      },
      "source": [
        "> ** Task:** Before you start with implementing the gaps in the code, please do a visualization of all the matrix algebra, with focus on the dimensions. The example below may help you."
      ]
    },
    {
      "cell_type": "markdown",
      "metadata": {
        "id": "PRnJ0kN1Ltra"
      },
      "source": [
        "<img src='https://drive.google.com/uc?id=1oE7jcMipeXVmtp5js3wu16oMJvVmbeli'>"
      ]
    },
    {
      "cell_type": "code",
      "execution_count": null,
      "metadata": {
        "collapsed": true,
        "id": "AKV5fXqHLtrb"
      },
      "outputs": [],
      "source": [
        "## Forward pass\n",
        "hidden_layer_input = # TODO: Calculate the hidden_layer_input\n",
        "print('hidden layer input: ', hidden_layer_input)\n",
        "\n",
        "hidden_layer_output = # TODO: Calculate the hidden_layer_output\n",
        "print('hidden layer output: ', hidden_layer_output,'\\n')\n",
        "\n",
        "output_layer_in = # TODO: Calculate the output_layer_in\n",
        "print('output layer input: ', output_layer_in)\n",
        "\n",
        "output = # TODO: Calculate the output_layer_in\n",
        "print('output layer output: ', output)"
      ]
    },
    {
      "cell_type": "markdown",
      "metadata": {
        "id": "dFfxAcnELtrb"
      },
      "source": [
        "## Define the derivate of sigmoid (neccessary for Backpropagation)"
      ]
    },
    {
      "cell_type": "code",
      "execution_count": null,
      "metadata": {
        "collapsed": true,
        "id": "o27IMbE-Ltrb"
      },
      "outputs": [],
      "source": [
        "def sigmoid_prime(x):\n",
        "    \"\"\"\n",
        "    Calculate derivative of sigmoid\n",
        "    \"\"\"\n",
        "    return sigmoid(x) * (1 - sigmoid(x))"
      ]
    },
    {
      "cell_type": "markdown",
      "metadata": {
        "id": "daXUvoccLtrb"
      },
      "source": [
        "## Backward Pass"
      ]
    },
    {
      "cell_type": "markdown",
      "metadata": {
        "id": "8Dm6WDXALtrb"
      },
      "source": [
        "<img src='https://drive.google.com/uc?id=1wP6zF7MkvwtqmdDEtKKe7jIupvEFMHdq'>"
      ]
    },
    {
      "cell_type": "markdown",
      "metadata": {
        "id": "8xWSwUzQLtrb"
      },
      "source": [
        "<img src='https://drive.google.com/uc?id=1xSnnttQXOnYMK2Ccs7V19h6XGun7WaA6'>"
      ]
    },
    {
      "cell_type": "markdown",
      "metadata": {
        "id": "RNWAS76cLtrb"
      },
      "source": [
        "> **Task:** Before you start coding the backward pass, it is essential that you visualize the matrix algebra as done for the forward pass. You are supposed to use the same shape of matrices for the weights and the inputs like in the forward pass.\n",
        "For achieving this, you will need to transpose some matrices or even change the order that the result represents the desired output (like in the image above). Please create a cell below and insert an image of your visualization."
      ]
    },
    {
      "cell_type": "markdown",
      "metadata": {
        "id": "uFNUM7cjLtrb"
      },
      "source": [
        "Your visualization of the matrices of the backward pass:"
      ]
    },
    {
      "cell_type": "markdown",
      "metadata": {
        "id": "PyR4yVx2Ltrb"
      },
      "source": [
        "> **Task:** Now, fill in the gaps in the code below"
      ]
    },
    {
      "cell_type": "code",
      "execution_count": null,
      "metadata": {
        "collapsed": true,
        "id": "xylFo4ojLtrb"
      },
      "outputs": [],
      "source": [
        "learnrate = 0.5\n",
        "\n",
        "# Step 1\n",
        "error = # TODO: Calculate output error\n",
        "\n",
        "# HIDDEN TO OUTPUT CALCULATION\n",
        "\n",
        "# Step 2\n",
        "output_error_term = # TODO: Calculate error term for output layer\n",
        "print('output_error_term: \\n', output_error_term, '\\n')\n",
        "\n",
        "# Step 3\n",
        "delta_w_h_o = # TODO: Calculate change in weights for hidden layer to output layer\n",
        "print('delta_w hidden to output: \\n', delta_w_h_o, '\\n')\n",
        "\n",
        "# Step 4\n",
        "weights_hidden_output_new = # TODO: Add Delta to weight in order to get the updated weight.\n",
        "print('updated weights hidden to output: \\n', weights_hidden_output_new, '\\n')\n",
        "\n",
        "# INPUT TO HIDDEN CALCULATION\n",
        "\n",
        "# Step 5\n",
        "hidden_error_term = # TODO: Calculate error term for hidden layer\n",
        "print('hidden_error_term: \\n', hidden_error_term, '\\n')\n",
        "\n",
        "# Step 6\n",
        "delta_w_i_h =   # TODO: Calculate change in weights for input layer to hidden layer\n",
        "                # REMEMBER: to get a row vector use this notation: feature1[:, None]\n",
        "print('delta_w hidden to input: \\n', delta_w_i_h, '\\n')\n",
        "\n",
        "# Step 7\n",
        "weights_input_hidden_new = # TODO: Add Delta to weight in order to get the updated weight.\n",
        "print('updated weights input to hidden: \\n', weights_input_hidden_new, '\\n')\n",
        "\n",
        "print('Change in weights for hidden layer to output layer: \\n', delta_w_h_o, '\\n')\n",
        "print('Change in weights for input layer to hidden layer:\\n', delta_w_i_h, '\\n')"
      ]
    },
    {
      "cell_type": "markdown",
      "metadata": {
        "id": "8yfm-3YELtrb"
      },
      "source": [
        "## Forward Pass with updated Weights"
      ]
    },
    {
      "cell_type": "code",
      "execution_count": null,
      "metadata": {
        "collapsed": true,
        "id": "-J2rBRYrLtrc"
      },
      "outputs": [],
      "source": [
        "## Forward pass\n",
        "hidden_layer_input = np.dot(feature1, weights_input_hidden_new)\n",
        "print('hidden layer input:  ', hidden_layer_input)\n",
        "\n",
        "hidden_layer_output = sigmoid(hidden_layer_input)\n",
        "print('hidden layer output: ', hidden_layer_output,'\\n')\n",
        "\n",
        "output_layer_in = np.dot(hidden_layer_output, weights_hidden_output_new)\n",
        "print('output layer input:  ', output_layer_in)\n",
        "\n",
        "output = sigmoid(output_layer_in)\n",
        "print('output layer output: ', output)"
      ]
    },
    {
      "cell_type": "markdown",
      "metadata": {
        "id": "Rl4vT1dqLtrc"
      },
      "source": [
        "# Run the training on all data samples"
      ]
    },
    {
      "cell_type": "markdown",
      "metadata": {
        "id": "Hc8GizYJLtrc"
      },
      "source": [
        "#### Split the data into features and targets"
      ]
    },
    {
      "cell_type": "code",
      "execution_count": null,
      "metadata": {
        "collapsed": true,
        "id": "9dHYGf-1Ltrc"
      },
      "outputs": [],
      "source": [
        "# If you have not executed the code cells above, you can execute the required parts from above here!!!\n",
        "\n",
        "import numpy as np\n",
        "\n",
        "features = np.load(\"features.npy\")\n",
        "targets = np.load(\"targets.npy\")"
      ]
    },
    {
      "cell_type": "code",
      "execution_count": null,
      "metadata": {
        "collapsed": true,
        "id": "4tmw6UvtLtrc"
      },
      "outputs": [],
      "source": [
        "# Hyperparameters\n",
        "\n",
        "print(\"- - - - - - - - - - - - - - - - - - - - - - - - - - - - - - - - - - -\")\n",
        "print(\"!! The depicted loss value is the mean over all training samples !!\")\n",
        "print(\"- - - - - - - - - - - - - - - - - - - - - - - - - - - - - - - - - - -\")\n",
        "\n",
        "epochs = 2000\n",
        "learnrate = 20\n",
        "\n",
        "n_records, n_features = features.shape\n",
        "\n",
        "weights_input_hidden = np.array([[0.8, 0.4, 0.3],\n",
        "                                 [0.2, 0.9, 0.5]])\n",
        "\n",
        "weights_hidden_output = np.array([[0.3, 0.5, 0.9]]).transpose()\n",
        "\n",
        "print('weights_input_hidden:\\n', weights_input_hidden, '\\n')\n",
        "print('weights_hidden_output:\\n', weights_hidden_output, '\\n')\n",
        "\n",
        "def forward_pass(inputs):\n",
        "    # TODO: compute hidden_input, hidden_output, output_input and output_output here\n",
        "\n",
        "    return hidden_input, hidden_output, output_input, output_output\n",
        "\n",
        "def backward_pass(target, hidden_input, output_input, output_output):\n",
        "    # TODO: compute hidden_error_term and output_error_term\n",
        "\n",
        "    return hidden_error_term, output_error_term\n",
        "\n",
        "\n",
        "for e in range(epochs):\n",
        "    del_w_input_hidden = np.zeros(weights_input_hidden.shape)\n",
        "    del_w_hidden_output = np.zeros(weights_hidden_output.shape)\n",
        "\n",
        "    for x, y in zip(features, targets):\n",
        "\n",
        "        # store vector x as a 2d matrix\n",
        "        x = np.reshape(x,(1,-1))\n",
        "\n",
        "        # Forward Pass\n",
        "        hidden_input, hidden_output, output_input, output_output = forward_pass(x)\n",
        "\n",
        "        # Backward Pass\n",
        "        hidden_error_term, output_error_term = backward_pass(y, hidden_input, output_input, output_output)\n",
        "\n",
        "        # Delta for Weight Update\n",
        "        del_w_hidden_output +=  output_error_term * hidden_output.transpose()\n",
        "        del_w_input_hidden += x.transpose() * hidden_error_term.transpose()\n",
        "\n",
        "\n",
        "\n",
        "    # Weight Update\n",
        "    weights_input_hidden +=  learnrate * del_w_input_hidden / n_records\n",
        "    weights_hidden_output += learnrate * del_w_hidden_output / n_records\n",
        "\n",
        "    _, hidden_output, _, output_output = forward_pass(features)\n",
        "\n",
        "    if e % (epochs / 10) == 0:\n",
        "        print(\"________________________________________________________________\")\n",
        "        loss = np.mean((np.subtract(targets, output_output)) ** 2)\n",
        "        print(\"Interation:\", e, \", Current Loss:\",loss)\n",
        "\n",
        "\n",
        "# Test the network\n",
        "print()\n",
        "print(\"Final Test\")\n",
        "print(\"________________________________________________________________\")\n",
        "loss = np.mean((np.subtract(targets, output_output)) ** 2)\n",
        "print(\"Interation:\", epochs, \", Current Loss:\",loss)\n",
        "\n",
        "print()\n",
        "print('weights_input_hidden:\\n', weights_input_hidden, '\\n')\n",
        "print('weights_hidden_output:\\n', weights_hidden_output, '\\n')"
      ]
    },
    {
      "cell_type": "markdown",
      "metadata": {
        "id": "slk8LPtyLtrc"
      },
      "source": [
        "## Predict a Value"
      ]
    },
    {
      "cell_type": "markdown",
      "metadata": {
        "id": "nXFxiFBuLtrc"
      },
      "source": [
        "> **TASK:** Do a test by yourself. Provide 2 input values and get a result."
      ]
    },
    {
      "cell_type": "code",
      "execution_count": null,
      "metadata": {
        "collapsed": true,
        "id": "QRD676_-Ltrc"
      },
      "outputs": [],
      "source": [
        "np.set_printoptions(2, suppress=True)\n",
        "\n",
        "# Must be ~1\n",
        "test_sample_1 = np.array([[1, 0.8]])\n",
        "# Must be ~0\n",
        "test_sample_2 = np.array([[0.8, 0.1]])\n",
        "# Dificult to predict\n",
        "test_sample_3 = np.array([[0.5, 0.3]])\n",
        "\n",
        "_, _, _, erg1 = forward_pass(test_sample_1)\n",
        "_, _, _, erg2 = forward_pass(test_sample_2)\n",
        "_, _, _, erg3 = forward_pass(test_sample_3)\n",
        "\n",
        "print(\"Sample 1 (Should be clearly 1) - Predicted:\", erg1)\n",
        "print(\"Sample 2 (Should be clearly 0) - Predicted:\", erg2)\n",
        "print(\"Sample 3 (Difficult to predict) - Predicted:\", erg3)"
      ]
    },
    {
      "cell_type": "markdown",
      "metadata": {
        "id": "egDj7-wqLtrj"
      },
      "source": [
        "## Double check with the dataset\n",
        "<img src='https://drive.google.com/uc?id=1eja1gmkYYtLoRki1MlmIsm6zUjIHkOOO'>\n",
        "### It works! Great!"
      ]
    },
    {
      "cell_type": "code",
      "source": [],
      "metadata": {
        "id": "7tmIllb8MdyH"
      },
      "execution_count": null,
      "outputs": []
    }
  ],
  "metadata": {
    "kernelspec": {
      "display_name": "Python 3",
      "language": "python",
      "name": "python3"
    },
    "language_info": {
      "codemirror_mode": {
        "name": "ipython",
        "version": 3
      },
      "file_extension": ".py",
      "mimetype": "text/x-python",
      "name": "python",
      "nbconvert_exporter": "python",
      "pygments_lexer": "ipython3",
      "version": "3.6.4"
    },
    "colab": {
      "provenance": [],
      "include_colab_link": true
    }
  },
  "nbformat": 4,
  "nbformat_minor": 0
}