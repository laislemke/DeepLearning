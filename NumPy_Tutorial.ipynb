{
  "cells": [
    {
      "cell_type": "markdown",
      "metadata": {
        "id": "view-in-github",
        "colab_type": "text"
      },
      "source": [
        "<a href=\"https://colab.research.google.com/github/laislemke/DeepLearning/blob/main/NumPy_Tutorial.ipynb\" target=\"_parent\"><img src=\"https://colab.research.google.com/assets/colab-badge.svg\" alt=\"Open In Colab\"/></a>"
      ]
    },
    {
      "cell_type": "markdown",
      "metadata": {
        "id": "0x-pp2czN5NU"
      },
      "source": [
        "# Python basics with NumPy\n",
        "by [Ruben Nuredini](mailto:Ruben.Nuredini@hs-heilbronn.de), [Nicolaj Stache](mailto:Nicolaj.Stache@hs-heilbronn.de), [Andreas Schneider](mailto:Andreas.Schneider@hs-heilbronn.de), Heilbronn University of Applied Sciences"
      ]
    },
    {
      "cell_type": "markdown",
      "metadata": {
        "id": "8bUkvDwYN5NW"
      },
      "source": [
        "NumPy is the fundamental package for scientific computing with Python. It includes a powerful N-dimensional array object as well as linear algebra and random number capabilities that are useful for data science. NumPy also provides sophisticated (broadcasting) functions out-of-the box. NumPy is maintained by a large community (http://www.numpy.org). Any time you need more info on a numpy function, we encourage you to look at [the official documentation](https://docs.scipy.org/doc/numpy-1.10.1/reference/generated/numpy.exp.html).\n",
        "\n",
        "[Matplotlib](https://matplotlib.org/) is a 2D plotting library for Python and NumPy. Matplotlib collection `matplotlib.pyplot` is a collection of command style functions.\n",
        "\n",
        "As NumPy is a library, it has to be included using the `import` keyword."
      ]
    },
    {
      "cell_type": "code",
      "execution_count": 1,
      "metadata": {
        "collapsed": true,
        "id": "hf6y48UEN5NW"
      },
      "outputs": [],
      "source": [
        "import numpy as np"
      ]
    },
    {
      "cell_type": "markdown",
      "metadata": {
        "id": "cGgOyGe3N5NX"
      },
      "source": [
        "Additionally the `matplotlib.pyplot` should be imported. The `%matplotlib` is a [magic function](http://ipython.readthedocs.io/en/stable/interactive/tutorial.html#magics-explained) in IPython (the engine Jupyter notebooks run on). '%matplotlib inline' sets the backend of matplotlib to the 'inline' backend. With this backend, the output of plotting commands is displayed inline within frontends like the Jupyter notebook, directly below the code cell that produced it. The resulting plots will then also be stored in the notebook document."
      ]
    },
    {
      "cell_type": "code",
      "execution_count": null,
      "metadata": {
        "collapsed": true,
        "id": "ZR4JpglCN5NX"
      },
      "outputs": [],
      "source": [
        "import matplotlib.pyplot as plt\n",
        "%matplotlib inline"
      ]
    },
    {
      "cell_type": "markdown",
      "metadata": {
        "id": "mfy6fFVdN5NX"
      },
      "source": [
        "## Basic data structures with NumPy"
      ]
    },
    {
      "cell_type": "markdown",
      "metadata": {
        "id": "Yv3a2ZSEN5NX"
      },
      "source": [
        "NumPy provides a very convenient way to create N-dimensional arrays. The data structures used in NumPy to represent these shapes (vectors, matrices...) are called numpy arrays."
      ]
    },
    {
      "cell_type": "markdown",
      "metadata": {
        "id": "s074gRvZN5NX"
      },
      "source": [
        "### 0 - dimensional Array (Scalar)"
      ]
    },
    {
      "cell_type": "code",
      "execution_count": null,
      "metadata": {
        "id": "S7s52NUuN5NX"
      },
      "outputs": [],
      "source": [
        "x = np.array(42)\n",
        "print(\"x: \", x)\n",
        "print(\"The type of x: \", type(x))\n",
        "print(\"The dimension of x:\", np.ndim(x))"
      ]
    },
    {
      "cell_type": "markdown",
      "metadata": {
        "id": "LfQzUgtkN5NY"
      },
      "source": [
        "### 1 - dimensional Array (Vector)"
      ]
    },
    {
      "cell_type": "code",
      "execution_count": null,
      "metadata": {
        "id": "6VLsy4hyN5NY"
      },
      "outputs": [],
      "source": [
        "F = np.array([[5, 1, 4, 2, 6, 0]], dtype=np.double) # the dtype parameter can be used to define the type of the array elements.\n",
        "V = np.array([1., 2., 3., 4., 5., 6.]) # if the dtype parameter is omitted Python deduces the elements type.\n",
        "\n",
        "print(\"F: \", F)\n",
        "print(\"V: \", V)\n",
        "print(\"Type of F: \", F.dtype)\n",
        "print(\"Type of V: \", V.dtype)\n",
        "print(\"Dimension of F: \", np.ndim(F))\n",
        "print(\"Dimension of V: \", np.ndim(V))\n"
      ]
    },
    {
      "cell_type": "markdown",
      "metadata": {
        "id": "45eu_5mFN5NY"
      },
      "source": [
        "Let us check the type of F."
      ]
    },
    {
      "cell_type": "code",
      "execution_count": null,
      "metadata": {
        "id": "cWxGXAAzN5NY"
      },
      "outputs": [],
      "source": [
        "type(F)"
      ]
    },
    {
      "cell_type": "markdown",
      "metadata": {
        "id": "bJCq5sqhN5NY"
      },
      "source": [
        "#### Shape\n",
        "A very common NumPy function used in deep learning is [np.shape](https://docs.scipy.org/doc/numpy/reference/generated/numpy.ndarray.shape.html). It is used to get the shape (dimension) of the matrix/vector X and Y."
      ]
    },
    {
      "cell_type": "code",
      "execution_count": null,
      "metadata": {
        "id": "cXBUTNUHN5NY"
      },
      "outputs": [],
      "source": [
        "print(\"Shape of F: \", F.shape)\n",
        "print(\"Shape of V: \", V.shape)"
      ]
    },
    {
      "cell_type": "markdown",
      "metadata": {
        "id": "HqZ5ytQaN5NY"
      },
      "source": [
        "#### Transpose\n",
        "Transposing data structures with [np.T](https://docs.scipy.org/doc/numpy/reference/generated/numpy.ndarray.T.html) is another common function in NumPy used in deep learning. Pay attention on what happens when we try to transpose the vector V."
      ]
    },
    {
      "cell_type": "code",
      "execution_count": null,
      "metadata": {
        "collapsed": true,
        "id": "lJO0rETGN5NZ"
      },
      "outputs": [],
      "source": [
        "F_transposed = F.T\n",
        "V_transposed = V.T"
      ]
    },
    {
      "cell_type": "code",
      "execution_count": null,
      "metadata": {
        "id": "0X4sFMW9N5NZ"
      },
      "outputs": [],
      "source": [
        "print('F_transposed: \\n', F_transposed)\n",
        "print('Shape of F_transposed: ', F_transposed.shape)\n",
        "print()\n",
        "\n",
        "print('V_transposed: \\n', V_transposed)\n",
        "print('Shape of V_transposed: ', V_transposed.shape)"
      ]
    },
    {
      "cell_type": "markdown",
      "metadata": {
        "id": "AqC3hW5LN5NZ"
      },
      "source": [
        "Please note: The orientation of a vector (column-vector or row-vector) is not stored in NumPy, as you can observe from `V` and `V_transposed`. Hence, transposition does not work as you might expect. It differs from the behavior of MATLAB, which internally treats vectors as matrices (with two dimensions) and can by this represent row and column vectors.\n",
        "\n",
        "One approach for Python is to define vectors also as a two dimensional matrix, by using double brackets `[[ ]]`, as done for `F`. This is the recommended solution.\n",
        "\n",
        "As an alternative, you can transpose a vector like this:"
      ]
    },
    {
      "cell_type": "code",
      "execution_count": null,
      "metadata": {
        "id": "LrxXCSRrN5NZ"
      },
      "outputs": [],
      "source": [
        "V_transposed2 = V[:,None]\n",
        "print('V_transposed2: \\n', V_transposed2)\n",
        "print('Shape of V_transposed2: ', V_transposed2.shape)"
      ]
    },
    {
      "cell_type": "markdown",
      "metadata": {
        "id": "ToXhnhq0N5NZ"
      },
      "source": [
        "#### Lists vs numpy.ndarray\n",
        "The type of a regular Python array is `list` whereas the regular type of a NumPy array is `numpy.ndarray`. You can easily create a NumPy array out of a list"
      ]
    },
    {
      "cell_type": "code",
      "execution_count": null,
      "metadata": {
        "collapsed": true,
        "id": "-qKyFxLVN5NZ"
      },
      "outputs": [],
      "source": [
        "# list of room temperatures in centigrades\n",
        "C = [20.1, 20.8, 21.9, 22.5, 22.7, 22.3, 21.8, 21.2, 20.9, 20.1]\n",
        "\n",
        "# numpy array created from that list\n",
        "C_np = np.array(C)"
      ]
    },
    {
      "cell_type": "markdown",
      "metadata": {
        "id": "J-1UZ5D2N5NZ"
      },
      "source": [
        "Now let's do computations with both - like doing a conversion of degree centigrade to degree fahrenheit, using this formula: $$ \\vartheta(°F) = \\vartheta(°C) \\cdot 9/5 + 32$$\n",
        "\n",
        "In case of a numpy array, we can make use of scalar-matrix computations..."
      ]
    },
    {
      "cell_type": "code",
      "execution_count": null,
      "metadata": {
        "id": "NDxdRQ50N5Na"
      },
      "outputs": [],
      "source": [
        "# numpy supports matrix and vector algebra, hence the conversion is quite simple\n",
        "print('Temperature in °F: ', C_np * 9/5 + 32)"
      ]
    },
    {
      "cell_type": "markdown",
      "metadata": {
        "id": "MtDWvk65N5Na"
      },
      "source": [
        "> **Task:** as a revision to lists... please implement the same conversion without numpy by using lists only (hint: consider list comprehensions)"
      ]
    },
    {
      "cell_type": "code",
      "execution_count": null,
      "metadata": {
        "collapsed": true,
        "id": "D-vxDBrSN5Na"
      },
      "outputs": [],
      "source": [
        "# TODO: Implement the same conversion by using the list only.\n",
        "\n"
      ]
    },
    {
      "cell_type": "markdown",
      "metadata": {
        "id": "jVgO9hrBN5Na"
      },
      "source": [
        "Other operations on numpy arrays are described later in the tutorial"
      ]
    },
    {
      "cell_type": "markdown",
      "metadata": {
        "id": "LEwToO5NN5Na"
      },
      "source": [
        "<font color='blue'>\n",
        "**Summary**:\n",
        "- the type of a regular Python array is `list` whereas of a NumPy array is `numpy.ndarray`\n",
        "- Make sure that you keep track of the dimensions of the data structures you create with NumPy.\n",
        "- Many bugs in deep learning implementations are caused by improper shapes.\n",
        "- A good practice is to define one-dimensional arrays in a full-fledged way (in fact, as a two dimensional array, like `F` was created)."
      ]
    },
    {
      "cell_type": "markdown",
      "metadata": {
        "id": "D8cCLiQ0N5Na"
      },
      "source": [
        "### Two and higher dimensional arrays (Matrices, Tensors)"
      ]
    },
    {
      "cell_type": "markdown",
      "metadata": {
        "id": "fK6s5i15N5Na"
      },
      "source": [
        "Let us create a two-dimensional matrix of shape 6x6."
      ]
    },
    {
      "cell_type": "code",
      "execution_count": null,
      "metadata": {
        "collapsed": true,
        "id": "NfxSfa_TN5Na"
      },
      "outputs": [],
      "source": [
        "Z = np.array([[3, 0, 1, 2, 7, 4],\n",
        "              [1, 5, 8, 9, 3, 1],\n",
        "              [2, 7, 2, 5, 1, 3],\n",
        "              [0, 1, 3, 1, 7, 8],\n",
        "              [4, 2, 1, 6, 2, 8],\n",
        "              [2, 4, 5, 2, 3, 9]], np.double)\n",
        "print (Z)"
      ]
    },
    {
      "cell_type": "code",
      "execution_count": null,
      "metadata": {
        "collapsed": true,
        "id": "G-XGVXaSN5Na"
      },
      "outputs": [],
      "source": [
        "print (Z.shape) # the first dimension of Z is now 6.\n",
        "print (Z.shape[0]) # each dimension of a multidimensional array can be obtained separately."
      ]
    },
    {
      "cell_type": "markdown",
      "metadata": {
        "id": "SYkAB1pyN5Nb"
      },
      "source": [
        "You can also create NumPy arrays in higher dimensions. Let us create a 3-D NumPy array."
      ]
    },
    {
      "cell_type": "code",
      "execution_count": null,
      "metadata": {
        "collapsed": true,
        "id": "HEdr_7KxN5Nb"
      },
      "outputs": [],
      "source": [
        "highDimArray = np.array([\n",
        "    [[0.00, 0.01, 0.02],\n",
        "     [0.10, 0.11, 0.12],\n",
        "     [0.20, 0.21, 0.22]],\n",
        "\n",
        "    [[1.00, 1.01, 1.02],\n",
        "     [1.10, 1.11, 1.12],\n",
        "     [1.20, 1.21, 1.22]],\n",
        "\n",
        "    [[2.00, 2.01, 2.02],\n",
        "     [2.10, 2.11, 2.12],\n",
        "     [2.20, 2.21, 2.22]]\n",
        "])"
      ]
    },
    {
      "cell_type": "code",
      "execution_count": null,
      "metadata": {
        "collapsed": true,
        "id": "k_CQRYLhN5Nb"
      },
      "outputs": [],
      "source": [
        "highDimArray.shape"
      ]
    },
    {
      "cell_type": "markdown",
      "metadata": {
        "id": "MZJyTLbaN5Nb"
      },
      "source": [
        "Accessing elements in a multidimensional array is by using its indices."
      ]
    },
    {
      "cell_type": "code",
      "execution_count": null,
      "metadata": {
        "collapsed": true,
        "id": "REXONB_lN5Nb"
      },
      "outputs": [],
      "source": [
        "highDimArray[0] #using one index returns a 2-D NumPy array."
      ]
    },
    {
      "cell_type": "code",
      "execution_count": null,
      "metadata": {
        "collapsed": true,
        "id": "py51KHpQN5Nc"
      },
      "outputs": [],
      "source": [
        "highDimArray[1, 0] #using two indices returns a 1-D NumPy array."
      ]
    },
    {
      "cell_type": "code",
      "execution_count": null,
      "metadata": {
        "collapsed": true,
        "id": "7tAkdNVTN5Nc"
      },
      "outputs": [],
      "source": [
        "highDimArray[2, 2, 1] #three indices result with a scalar value."
      ]
    },
    {
      "cell_type": "markdown",
      "metadata": {
        "id": "8ISN0HrjN5Nc"
      },
      "source": [
        "---\n",
        "\n",
        "## Initialization of NumPy vectors and matrices"
      ]
    },
    {
      "cell_type": "markdown",
      "metadata": {
        "id": "mK8eoeYqN5Nc"
      },
      "source": [
        "A very convenient functions for quick initialization of NumPy arrays are:\n",
        "- [np.zeros](https://docs.scipy.org/doc/numpy/reference/generated/numpy.zeros.html) that returns a new array of given shape and type, filled with zeros.\n",
        "- [np.random.rand](https://docs.scipy.org/doc/numpy/reference/generated/numpy.random.rand.html) that creates an array of the given shape and populate it with random samples from a uniform distribution over $[0, 1)$\n",
        "\n",
        "These functions are very useful when it comes to the initialization of the parameters (weights and biases) in a neural network."
      ]
    },
    {
      "cell_type": "markdown",
      "metadata": {
        "id": "TBI44fPdN5Nc"
      },
      "source": [
        "#### Zero initialization\n",
        "A typical usage of `np.zeros` is as follows"
      ]
    },
    {
      "cell_type": "code",
      "execution_count": null,
      "metadata": {
        "collapsed": true,
        "id": "1RrnYtJLN5Nc"
      },
      "outputs": [],
      "source": [
        "np.zeros ((2, 5, 6))"
      ]
    },
    {
      "cell_type": "markdown",
      "metadata": {
        "id": "OdIHy29CN5Nd"
      },
      "source": [
        "Let us say that the $L$-th layer in a neural network consists of 10 neurons. Each of them is associated with a bias. In order to initialize the `b_L` vector to zeros we could use:"
      ]
    },
    {
      "cell_type": "code",
      "execution_count": null,
      "metadata": {
        "collapsed": true,
        "id": "aWCk9JxLN5Nd"
      },
      "outputs": [],
      "source": [
        "layer_L_dims = 10\n",
        "b_L = np.zeros((layer_L_dims, 1))\n",
        "print (b_L)"
      ]
    },
    {
      "cell_type": "markdown",
      "metadata": {
        "id": "4oTrOtbYN5Nd"
      },
      "source": [
        "#### Random Initialization"
      ]
    },
    {
      "cell_type": "markdown",
      "metadata": {
        "id": "iEDALS3rN5Nd"
      },
      "source": [
        "A typical usage of `np.random.rand` is as follows"
      ]
    },
    {
      "cell_type": "code",
      "execution_count": null,
      "metadata": {
        "collapsed": true,
        "id": "_w3x4FpWN5Nd"
      },
      "outputs": [],
      "source": [
        "np.random.rand(7, 4)"
      ]
    },
    {
      "cell_type": "markdown",
      "metadata": {
        "id": "6J1pm6nEN5Nd"
      },
      "source": [
        "The usage of an equal seed makes sure your \"random\" numbers will be the same as ours. Running the code several times gives you always the same values."
      ]
    },
    {
      "cell_type": "code",
      "execution_count": null,
      "metadata": {
        "collapsed": true,
        "scrolled": true,
        "id": "Ch9vvsZtN5Nd"
      },
      "outputs": [],
      "source": [
        "np.random.seed(1)\n",
        "np.random.rand(4, 3)"
      ]
    },
    {
      "cell_type": "markdown",
      "metadata": {
        "id": "x-2UgA-HN5Nd"
      },
      "source": [
        "## Linear Algebra fundamentals with NumPy"
      ]
    },
    {
      "cell_type": "markdown",
      "metadata": {
        "id": "-7zNducnN5Nd"
      },
      "source": [
        "Linear algebra is the branch of mathematics concerning linear equations such as linear functions such as\n",
        "and their representations through matrices and vector spaces. Linear algebra is particularly useful in deep learning as it provides efficiency in terms of calculation speed and simplicity in coding. By employing linear algebra operations the amount of loops (`for`, `while` constructs) is decreased to minimum.\n",
        "\n",
        "> **Task**: Examine the following code snippets and explain them to your neighbor!"
      ]
    },
    {
      "cell_type": "code",
      "execution_count": null,
      "metadata": {
        "collapsed": true,
        "id": "rx7NuXLZN5Ne"
      },
      "outputs": [],
      "source": [
        "arr1 = [1, 2, 3, 4]\n",
        "arr2 = [5, 6, 7, 8]"
      ]
    },
    {
      "cell_type": "code",
      "execution_count": null,
      "metadata": {
        "collapsed": true,
        "id": "6bZf-wu8N5Ne"
      },
      "outputs": [],
      "source": [
        "# Multiplication of two python arrays with a loop\n",
        "product = []\n",
        "for i in range(len(arr1)):\n",
        "    product.append(arr1[i] * arr2[i])\n",
        "product"
      ]
    },
    {
      "cell_type": "markdown",
      "metadata": {
        "id": "f540Ov7BN5Ne"
      },
      "source": [
        "One remark: The code above, might be the most obvious solution to the problem using lists. However, it is surely not the most Pythonic way of implementing this. A better approach in this sense uses list comprehensions with the `zip` command. Please check the explanation and other examples for this [here](https://www.programiz.com/python-programming/methods/built-in/zip)."
      ]
    },
    {
      "cell_type": "code",
      "execution_count": null,
      "metadata": {
        "collapsed": true,
        "id": "BkCS33EcN5Ne"
      },
      "outputs": [],
      "source": [
        "product = [x*y for x, y in zip(arr1, arr2)]\n",
        "print(product)"
      ]
    },
    {
      "cell_type": "markdown",
      "metadata": {
        "id": "w9rLjjN4N5Ne"
      },
      "source": [
        "However, multiplying two vectors seems to be complex using lists. With NumPy the same result can be achieved by:"
      ]
    },
    {
      "cell_type": "code",
      "execution_count": null,
      "metadata": {
        "collapsed": true,
        "id": "lGRh2Vy7N5Ne"
      },
      "outputs": [],
      "source": [
        "# Linear algebra version by employing NumPy\n",
        "np.array(arr1) * np.array(arr2)"
      ]
    },
    {
      "cell_type": "markdown",
      "metadata": {
        "id": "u_XxgP8ON5Nf"
      },
      "source": [
        "### Matrix Multiplication\n",
        "\n",
        "Multiplication of matrix to a scalar is done by multiplying each element of the matrix to the scalar."
      ]
    },
    {
      "cell_type": "code",
      "execution_count": null,
      "metadata": {
        "collapsed": true,
        "id": "RCwPG2orN5Nf"
      },
      "outputs": [],
      "source": [
        "A = np.random.randint(11, size=(3, 4)) # Generate a 3 x 4 matrix of ints between 0 (inclusive) and 11 (exclusive):\n",
        "print ('The original values of the matrix: ')\n",
        "print(A)\n",
        "print ('The values of the matrix scaled by 2: ')\n",
        "print (A * 2)"
      ]
    },
    {
      "cell_type": "markdown",
      "metadata": {
        "id": "PmDveyZkN5Nf"
      },
      "source": [
        "Multiplying a matrix by a matrix is tricky as not every two matrices can be multiplied. If $A$ is an $n × m$ matrix and $B$ is an $m × p$ matrix, their matrix product $AB$ is an $n × p$ matrix. The $m$ entries across a row of $A$ are multiplied with the $m$ entries down a column of $B$ and summed to produce an entry of $AB$.\n",
        "\n",
        "The matrix multiplication can be done by the @ operator."
      ]
    },
    {
      "cell_type": "code",
      "execution_count": null,
      "metadata": {
        "collapsed": true,
        "id": "iDMTrxLpN5Nf"
      },
      "outputs": [],
      "source": [
        "print (A)\n",
        "print ('The shape of the matrix A is', A.shape)"
      ]
    },
    {
      "cell_type": "code",
      "execution_count": null,
      "metadata": {
        "collapsed": true,
        "id": "SgERDOTlN5Ng"
      },
      "outputs": [],
      "source": [
        "B = np.random.randint(11, size=(4, 5))\n",
        "print (B)\n",
        "print ('The shape of the matrix B is', B.shape)"
      ]
    },
    {
      "cell_type": "code",
      "execution_count": null,
      "metadata": {
        "collapsed": true,
        "id": "Npg2I2vMN5Ng"
      },
      "outputs": [],
      "source": [
        "AB = A @ B\n",
        "print (AB)\n",
        "print ('The shape of the matrix AB is', AB.shape)"
      ]
    },
    {
      "cell_type": "markdown",
      "metadata": {
        "id": "onMFYLW4N5Ng"
      },
      "source": [
        "The attempt to obtain the product BA will result with an error. Why?"
      ]
    },
    {
      "cell_type": "code",
      "execution_count": null,
      "metadata": {
        "collapsed": true,
        "id": "MJwvljYMN5Ng"
      },
      "outputs": [],
      "source": [
        "BA = B @ A"
      ]
    },
    {
      "cell_type": "markdown",
      "metadata": {
        "id": "EjwGnPpmN5Ng"
      },
      "source": [
        "### Dot Product"
      ]
    },
    {
      "cell_type": "markdown",
      "metadata": {
        "id": "Eh5KGrKzN5Ng"
      },
      "source": [
        "One very important vector operation is the dot product. The dot product is the multiplication of two vectors and results with a scalar."
      ]
    },
    {
      "cell_type": "code",
      "execution_count": null,
      "metadata": {
        "collapsed": true,
        "id": "-fom3IflN5Ng"
      },
      "outputs": [],
      "source": [
        "w = np.random.randn(4, 1)\n",
        "w"
      ]
    },
    {
      "cell_type": "code",
      "execution_count": null,
      "metadata": {
        "collapsed": true,
        "id": "yfNY3baEN5Ng"
      },
      "outputs": [],
      "source": [
        "data_point = np.array([[1, 1, 2, 0]]).T\n",
        "data_point"
      ]
    },
    {
      "cell_type": "code",
      "execution_count": null,
      "metadata": {
        "collapsed": true,
        "id": "6lxSbpWvN5Nh"
      },
      "outputs": [],
      "source": [
        "np.dot(w.T, data_point)"
      ]
    },
    {
      "cell_type": "markdown",
      "metadata": {
        "id": "ha80OA9HN5Nh"
      },
      "source": [
        "In deep learning usually the datasets are represented as groups of datapoints. The dot product is very helpful when each of the datapoints in the dataset should be multiplied by weights which are stored in a vector $w$."
      ]
    },
    {
      "cell_type": "code",
      "execution_count": null,
      "metadata": {
        "collapsed": true,
        "id": "BJ8QNZ7IN5Nh"
      },
      "outputs": [],
      "source": [
        "# an imaginary dataset of 10 data points each represented as a 4 x 1 vector.\n",
        "data_set = np.random.randint(3, size=(4, 10))\n",
        "data_set"
      ]
    },
    {
      "cell_type": "code",
      "execution_count": null,
      "metadata": {
        "collapsed": true,
        "id": "1ehWTB3-N5Nh"
      },
      "outputs": [],
      "source": [
        "# the result is a 1 x 10 vector where the elements correspond to the product of each datapoint and the weights vector.\n",
        "Z = np.dot(w.T, data_set)\n",
        "Z"
      ]
    },
    {
      "cell_type": "markdown",
      "metadata": {
        "id": "U00C7lb5N5Nh"
      },
      "source": [
        "### Elementwise operation"
      ]
    },
    {
      "cell_type": "markdown",
      "metadata": {
        "id": "01-Z1t9qN5Nh"
      },
      "source": [
        "There is sometimes the need for elementwise algebraic operation. Elementwise operations are binary operations that take two matrices of the same dimensions, and produce another matrix where each element $(i,j)$ is the operation of elements $(i,j)$ of the original two matrices. Some of the NumPy functions for element-wise operations are:\n",
        "* [np.multiply](https://docs.scipy.org/doc/numpy/reference/generated/numpy.multiply.html), alternatively use `*` for multiplying arguments element-wise. This operation is also known as the **Hadamard product**.\n",
        "* [np.divide](https://docs.scipy.org/doc/numpy/reference/generated/numpy.divide.html), alternatively use `/`  for dividing arguments element-wise.\n",
        "* [np.add](https://docs.scipy.org/doc/numpy/reference/generated/numpy.add.html), alternatively use `+` for adding arguments element-wise.\n",
        "* [np.subtract](https://docs.scipy.org/doc/numpy/reference/generated/numpy.subtract.html), alternatively use `-` for subtracting arguments element-wise.\n",
        "* [np.square](https://docs.scipy.org/doc/numpy/reference/generated/numpy.square.html), alternatively use `**` return the element-wise square of the input.\n",
        "\n",
        "Furthermore, there are logical operations avaliable:\n",
        "* [np.logical_or](https://docs.scipy.org/doc/numpy/reference/generated/numpy.logical_or.html#numpy.logical_or)\n",
        "* [np.logical_and](https://docs.scipy.org/doc/numpy/reference/generated/numpy.logical_and.html#numpy.logical_and)\n",
        "* [np.equal](https://docs.scipy.org/doc/numpy/reference/generated/numpy.equal.html#numpy.equal) (alternatively use `==`)\n",
        "* many more functions can be explored [here](https://docs.scipy.org/doc/numpy/reference/index.html)"
      ]
    },
    {
      "cell_type": "markdown",
      "metadata": {
        "id": "6iYYoGbyN5Ni"
      },
      "source": [
        "A simple example is applying a filter(mask) on a matrix. A filter is applied in order to zero-out some elements of the matrix."
      ]
    },
    {
      "cell_type": "code",
      "execution_count": null,
      "metadata": {
        "collapsed": true,
        "id": "ggq4HG3xN5Ni"
      },
      "outputs": [],
      "source": [
        "matrix = np.random.rand(4, 5) # creating a random 4 x 5 matrix of floating point numbers\n",
        "mask = np.random.randint(2, size=(4, 5)) # creating a random 4 x 5 matrix of zeroes or ones"
      ]
    },
    {
      "cell_type": "code",
      "execution_count": null,
      "metadata": {
        "collapsed": true,
        "id": "0DFYc_1jN5Ni"
      },
      "outputs": [],
      "source": [
        "masked_matrix = np.multiply(matrix, mask) # the Hadmard product zeroes-out the elements corresponding to the zero positions in the mask\n",
        "print (masked_matrix)"
      ]
    },
    {
      "cell_type": "markdown",
      "metadata": {
        "id": "E-fdAeV6N5Ni"
      },
      "source": [
        "In order to square all elements of the matrix the `np.squared` can be used:"
      ]
    },
    {
      "cell_type": "code",
      "execution_count": null,
      "metadata": {
        "collapsed": true,
        "id": "b8tJxyqBN5Ni"
      },
      "outputs": [],
      "source": [
        "np.square(masked_matrix)"
      ]
    },
    {
      "cell_type": "markdown",
      "metadata": {
        "id": "6kTQm2mON5Ni"
      },
      "source": [
        "### Broadcasting ####\n",
        "A very important concept to understand in numpy is \"broadcasting\". It is very useful for performing mathematical operations between arrays of different shapes. For the full details on broadcasting, you can read the official [broadcasting documentation](http://docs.scipy.org/doc/numpy/user/basics.broadcasting.html).\n",
        "\n",
        "Here are two examples to illustrate broadcasting:"
      ]
    },
    {
      "cell_type": "code",
      "execution_count": null,
      "metadata": {
        "collapsed": true,
        "id": "BbPSt3EqN5Ni"
      },
      "outputs": [],
      "source": [
        "A = np.array([ [11, 12, 13], [21, 22, 23], [31, 32, 33] ])\n",
        "B = np.array([1, 2, 3])\n",
        "\n",
        "print(A * B)\n",
        "\n",
        "print(A + B)"
      ]
    },
    {
      "cell_type": "code",
      "execution_count": null,
      "metadata": {
        "collapsed": true,
        "id": "00R_ll5xN5Ni"
      },
      "outputs": [],
      "source": [
        "A = np.array([10, 20, 30])\n",
        "B = np.array([1, 2, 3])\n",
        "A[:, None] * B"
      ]
    },
    {
      "cell_type": "markdown",
      "metadata": {
        "id": "q7RSQpxtN5Nj"
      },
      "source": [
        "> ** Task: Describe below what broadcasting does **"
      ]
    },
    {
      "cell_type": "markdown",
      "metadata": {
        "id": "grvdUUkLN5Nj"
      },
      "source": [
        "### Example: Normalizing a Dataset"
      ]
    },
    {
      "cell_type": "markdown",
      "metadata": {
        "id": "MkNfCSK-N5Nj"
      },
      "source": [
        "Element-wise operations are useful for normalizing input data. Normalizing data is one of the techniques to speed-up the learning process when training a neural network. It consists of two steps:\n",
        "* Subtract-out the mean $\\mu$\n",
        "* Normalize the variances $\\sigma$\n",
        "\n",
        "Let us have a look at a imaginary training set $X$ with two input features $\\begin{bmatrix} x_1\\\\x_2\\end{bmatrix}$."
      ]
    },
    {
      "cell_type": "code",
      "execution_count": null,
      "metadata": {
        "collapsed": true,
        "id": "D9UO0BbuN5Nj"
      },
      "outputs": [],
      "source": [
        "m = 40 # number of training examples\n",
        "np.random.seed(4)\n",
        "x1 = np.random.uniform(low=1.0, high=5.0, size=m) # values of feature x1 are between 1 and 5\n",
        "x2 = np.random.uniform(low=2.0, high=3.0, size=m) # values of feature x2 are between 2 and 3\n",
        "X = np.array([x1, x2])"
      ]
    },
    {
      "cell_type": "code",
      "execution_count": null,
      "metadata": {
        "collapsed": true,
        "id": "ifrSGCwHN5Nj"
      },
      "outputs": [],
      "source": [
        "print (X)"
      ]
    },
    {
      "cell_type": "code",
      "execution_count": null,
      "metadata": {
        "collapsed": true,
        "id": "u20mi-b2N5Nj"
      },
      "outputs": [],
      "source": [
        "# A helper function for plotting the dataset as a scatter plot\n",
        "def plotting_helper(X, scale):\n",
        "    plt.ylim((-scale, scale)) # setting the range of the plotted y-axis\n",
        "    plt.xlim((-scale, scale)) # setting the range of the plotted x-axis\n",
        "    plt.axhline(0, color='gray', linewidth=1, linestyle='dotted') # plot the x-axis\n",
        "    plt.axvline(0, color='gray', linewidth=1, linestyle='dotted') # plot the y-axis\n",
        "    return plt.scatter(X[0], X[1])"
      ]
    },
    {
      "cell_type": "markdown",
      "metadata": {
        "id": "izPxbfsdN5Nj"
      },
      "source": [
        "#### Graphical representation of the data in X"
      ]
    },
    {
      "cell_type": "code",
      "execution_count": null,
      "metadata": {
        "collapsed": true,
        "id": "wV0secdMN5Nk"
      },
      "outputs": [],
      "source": [
        "plotting_helper(X, 5.5)"
      ]
    },
    {
      "cell_type": "markdown",
      "metadata": {
        "id": "XCyP7JJUN5Nk"
      },
      "source": [
        "The mean can be calculated as: $$\\mu = \\frac{1}{m} {\\sum_{i=1}^{m}x}$$\n",
        "and then subtracted out of each element of the corresponding feature:\n",
        "$$x := x - \\mu$$"
      ]
    },
    {
      "cell_type": "code",
      "execution_count": null,
      "metadata": {
        "collapsed": true,
        "id": "kNV58XexN5Nk"
      },
      "outputs": [],
      "source": [
        "mu_x1 = np.sum(x1) / m # calculate the mean of the x1 feature\n",
        "mu_x2 = np.sum(x2) / m # calculate the mean of the x2 feature\n",
        "\n",
        "\n",
        "np.testing.assert_allclose(mu_x1, np.mean(x1), rtol=1e-5, atol=0)\n",
        "np.testing.assert_allclose(mu_x2, np.mean(x2), rtol=1e-5, atol=0)\n",
        "\n",
        "x1_new = x1 - mu_x1\n",
        "x2_new = x2 - mu_x2\n",
        "X_new = np.array([x1_new, x2_new])"
      ]
    },
    {
      "cell_type": "markdown",
      "metadata": {
        "id": "BCv6_VfcN5Nk"
      },
      "source": [
        "#### Graphical representation of the data in X after subtracting the mean"
      ]
    },
    {
      "cell_type": "code",
      "execution_count": null,
      "metadata": {
        "collapsed": true,
        "id": "zRAwrW9JN5Nk"
      },
      "outputs": [],
      "source": [
        "plotting_helper(X_new, 5.5)"
      ]
    },
    {
      "cell_type": "markdown",
      "metadata": {
        "id": "LeQmq3oGN5Nk"
      },
      "source": [
        "Our training set has now (almost) zero-mean over both features."
      ]
    },
    {
      "cell_type": "code",
      "execution_count": null,
      "metadata": {
        "collapsed": true,
        "id": "1-GfsFLsN5Nk"
      },
      "outputs": [],
      "source": [
        "print(X_new.mean(axis=1))"
      ]
    },
    {
      "cell_type": "markdown",
      "metadata": {
        "id": "DuhW7FFHN5Nk"
      },
      "source": [
        "The next step is to normalize the variances. It is obvious that the feature $x_1$ has much larger variance than the feature $x_2$. In order to do so:\n",
        "\n",
        "For our distribution with zero-mean, the variance can be calculated as: $$\\sigma^{2} = \\frac{1}{m} {\\sum_{i=1}^{m}x^{2}}$$\n",
        "and then each element of the features should be divided by the corresponding variance :\n",
        "$$x := \\frac{x}{\\sigma}$$"
      ]
    },
    {
      "cell_type": "code",
      "execution_count": null,
      "metadata": {
        "collapsed": true,
        "id": "fj2BU0b4N5Nl"
      },
      "outputs": [],
      "source": [
        "sigma_x1 = np.sum(np.square(x1_new)) / m # calculate the mean of the x1 feature\n",
        "sigma_x2 = np.sum(np.square(x2_new)) / m # calculate the mean of the x2 feature\n",
        "\n",
        "np.testing.assert_allclose(sigma_x1, np.var(x1_new), rtol=1e-5, atol=0)\n",
        "np.testing.assert_allclose(sigma_x2, np.var(x2_new), rtol=1e-5, atol=0)\n",
        "\n",
        "x1_norm = x1_new / np.sqrt(sigma_x1)\n",
        "x2_norm = x2_new / np.sqrt(sigma_x2)\n",
        "X_norm = np.array([x1_norm, x2_norm])"
      ]
    },
    {
      "cell_type": "code",
      "execution_count": null,
      "metadata": {
        "collapsed": true,
        "id": "L-a4cj5bN5Nl"
      },
      "outputs": [],
      "source": [
        "plotting_helper(X_norm, 5.5)"
      ]
    },
    {
      "cell_type": "markdown",
      "metadata": {
        "id": "Mc1ug1PmN5Nl"
      },
      "source": [
        "The variances of both $x_1$ and $x_2$ are now equal to 1."
      ]
    },
    {
      "cell_type": "code",
      "execution_count": null,
      "metadata": {
        "collapsed": true,
        "id": "pDccahtkN5Nl"
      },
      "outputs": [],
      "source": [
        "print(X_norm.std(axis=1))"
      ]
    },
    {
      "cell_type": "markdown",
      "metadata": {
        "id": "lG319F7cN5Nl"
      },
      "source": [
        "Another way to calculate the norm is by employing element-wise operations"
      ]
    },
    {
      "cell_type": "code",
      "execution_count": null,
      "metadata": {
        "collapsed": true,
        "id": "sRJnH19PN5Nl"
      },
      "outputs": [],
      "source": [
        "X_squared = np.square(X_new) # element-wise squaring of all elements of the dataset\n",
        "sum_X = np.sum(X_squared, axis=1) # summing all elements per row\n",
        "sigmas_X = np.divide(sum_X , m) # dividing the sums by m\n",
        "sigmas_X = np.expand_dims(sigmas_X, axis=1) # reshaping the result with aditional axis - from (2,) to  (2, 1)\n",
        "\n",
        "X_norm_easy = np.divide(X_new, np.sqrt(sigmas_X)) # perform the element-wise division"
      ]
    },
    {
      "cell_type": "code",
      "execution_count": null,
      "metadata": {
        "collapsed": true,
        "id": "aaYerxyZN5Nl"
      },
      "outputs": [],
      "source": [
        "plotting_helper(X_norm_easy, 5.5)"
      ]
    },
    {
      "cell_type": "markdown",
      "metadata": {
        "id": "80JeFnQyN5Nl"
      },
      "source": [
        "The variances of both $x_1$ and $x_2$ are again equal to 1."
      ]
    },
    {
      "cell_type": "code",
      "execution_count": null,
      "metadata": {
        "collapsed": true,
        "id": "fs6OYiHjN5Nm"
      },
      "outputs": [],
      "source": [
        "print(X_norm_easy.std(axis=1))"
      ]
    },
    {
      "cell_type": "markdown",
      "metadata": {
        "id": "alcYxkGHN5Nm"
      },
      "source": [
        "Machine learning tools such as `sklearn` provide normalizing functions that let you apply various normalizations."
      ]
    },
    {
      "cell_type": "code",
      "execution_count": null,
      "metadata": {
        "collapsed": true,
        "id": "njFB0WYbN5Nm"
      },
      "outputs": [],
      "source": [
        "from sklearn.preprocessing import scale"
      ]
    },
    {
      "cell_type": "code",
      "execution_count": null,
      "metadata": {
        "collapsed": true,
        "id": "m-f9W-LpN5Nm"
      },
      "outputs": [],
      "source": [
        "normed_matrix = scale(X, axis=1)\n",
        "plotting_helper(normed_matrix, 5.5)\n",
        "print(normed_matrix.std(axis=1)) # the sum of the normalized features should be 1."
      ]
    },
    {
      "cell_type": "markdown",
      "metadata": {
        "id": "6IuRe-R_N5Nm"
      },
      "source": [
        "<font color='blue'>\n",
        "**Important notice**:\n",
        "- keep track of the dimensions of the data structures in NumPy when calculating matrix and dot product.\n",
        "- in order to perform elementwise operations, the sizes of the NumPy arrays must be identical."
      ]
    },
    {
      "cell_type": "markdown",
      "metadata": {
        "id": "5ysNun02N5Nm"
      },
      "source": [
        "# More Information\n",
        "* https://www.python-kurs.eu\n",
        "* https://matplotlib.org/users/pyplot_tutorial.html\n",
        "\n",
        "# Media\n",
        "http://neuralnetworksanddeeplearning.com/images/tikz11.png\n",
        "\n",
        "# References\n",
        "\n",
        "[1] @article{DBLP:journals/corr/HeZRS15,\n",
        "  author    = {Kaiming He and\n",
        "               Xiangyu Zhang and\n",
        "               Shaoqing Ren and\n",
        "               Jian Sun},\n",
        "  title     = {Deep Residual Learning for Image Recognition},\n",
        "  journal   = {CoRR},\n",
        "  volume    = {abs/1512.03385},\n",
        "  year      = {2015},\n",
        "  url       = {http://arxiv.org/abs/1512.03385},\n",
        "  archivePrefix = {arXiv},\n",
        "  eprint    = {1512.03385},\n",
        "  timestamp = {Wed, 07 Jun 2017 14:41:17 +0200},\n",
        "  biburl    = {https://dblp.org/rec/bib/journals/corr/HeZRS15},\n",
        "  bibsource = {dblp computer science bibliography, https://dblp.org}\n",
        "}"
      ]
    }
  ],
  "metadata": {
    "kernelspec": {
      "display_name": "Python 3",
      "language": "python",
      "name": "python3"
    },
    "language_info": {
      "codemirror_mode": {
        "name": "ipython",
        "version": 3
      },
      "file_extension": ".py",
      "mimetype": "text/x-python",
      "name": "python",
      "nbconvert_exporter": "python",
      "pygments_lexer": "ipython3",
      "version": "3.7.8"
    },
    "colab": {
      "provenance": [],
      "include_colab_link": true
    }
  },
  "nbformat": 4,
  "nbformat_minor": 0
}